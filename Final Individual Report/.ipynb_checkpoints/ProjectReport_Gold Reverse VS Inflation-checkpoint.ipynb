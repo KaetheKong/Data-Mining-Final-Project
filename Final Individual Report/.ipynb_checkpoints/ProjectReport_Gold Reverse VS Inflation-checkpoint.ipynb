{
 "cells": [
  {
   "cell_type": "markdown",
   "metadata": {},
   "source": [
    "# The relationship between Gold Reserve and Inflation rate\n",
    "#### Jiaren Wu"
   ]
  },
  {
   "cell_type": "markdown",
   "metadata": {},
   "source": [
    "### Table of Contents (Optional)\n",
    " \n",
    " * [Executive Summary](#Executive-Summary)\n",
    " * [Links](#Links)\n",
    " * [Supplement](ProjectReportSupplement.ipynb) \n"
   ]
  },
  {
   "cell_type": "markdown",
   "metadata": {},
   "source": [
    "### Executive Summary\n",
    "In this study we want to prove our hypothesis -- there exist a relationship between Gold Reserve and Inflation.\n",
    "\n",
    "* We found that there is a weak downhil (negative) linear relationship between Gold Reserve and Inflation.\n",
    "* We also found the low r-square and p value indicates that we have less evidence to prove our main hypothesis."
   ]
  },
  {
   "cell_type": "markdown",
   "metadata": {},
   "source": [
    "### Background or Introduction\n",
    "Gold was used as the world reserve currency up through most of the 20th century.  (as know as the gold standard). Inflation refers to a sustained rise in the prices of goods and services. When there is inflation. We want to see if there is a relationship bewteen those two important economic indicators.\n",
    "\n",
    "* all of our data was acquired from the world bank website\n",
    "* we used OLS regresson to exam our data\n"
   ]
  },
  {
   "cell_type": "markdown",
   "metadata": {},
   "source": [
    "### Data Preprocessing\n",
    "* We fist extracted data from the raw cvs file\n",
    "* and we clean the extracted data and store them into their own data frame"
   ]
  },
  {
   "cell_type": "code",
   "execution_count": 12,
   "metadata": {
    "collapsed": true
   },
   "outputs": [],
   "source": [
    "import pandas as pd\n",
    "import numpy as np\n",
    "import matplotlib.pyplot as plt\n",
    "import matplotlib\n",
    "matplotlib.style.use('ggplot')\n",
    "%matplotlib inline"
   ]
  },
  {
   "cell_type": "code",
   "execution_count": 13,
   "metadata": {
    "collapsed": false
   },
   "outputs": [],
   "source": [
    "#read data from CSV files and clean it\n",
    "gold = pd.read_csv('gold.csv')\n",
    "cpi = pd.read_csv('CPI.csv')\n",
    "gold = gold.drop(['1960','2015','Series Code','Country Name','Country Code'], axis = 1)\n",
    "cpi = cpi.drop(['1960','2015','Series Code','Country Name','Country Code'], axis = 1)\n",
    "with_gold = gold.loc[0]\n",
    "without_gold = gold.loc[1]\n",
    "cpi = cpi.loc[0]\n",
    "m_with_gold = np.matrix(with_gold)\n",
    "m_without_gold = np.matrix(without_gold)\n",
    "m_without_gold[0] = m_without_gold[0].astype(np.float)\n",
    "m_with_gold[0] = m_with_gold[0].astype(np.float)"
   ]
  },
  {
   "cell_type": "code",
   "execution_count": 14,
   "metadata": {
    "collapsed": true
   },
   "outputs": [],
   "source": [
    "#calcuate gold reserve value from the total reserve with and without gold.\n",
    "gold = np.subtract(m_with_gold,m_without_gold )\n",
    "gold = gold[0].tolist()\n",
    "gold = gold[0]\n",
    "#store all the clean data into data frame\n",
    "result = pd.DataFrame()\n",
    "result['Inflation'] = cpi\n",
    "result['gold'] = gold\n",
    "goldDF = pd.DataFrame()\n",
    "inflation = pd.DataFrame()\n",
    "goldDF['gold'] = gold\n",
    "inflation['Inflation'] = cpi"
   ]
  },
  {
   "cell_type": "markdown",
   "metadata": {},
   "source": [
    "### Analysis\n",
    "* We fist normalized the data\n",
    "* and we used OLS regression test"
   ]
  },
  {
   "cell_type": "code",
   "execution_count": 15,
   "metadata": {
    "collapsed": false
   },
   "outputs": [],
   "source": [
    "from sklearn.preprocessing import normalize"
   ]
  },
  {
   "cell_type": "code",
   "execution_count": 16,
   "metadata": {
    "collapsed": true
   },
   "outputs": [],
   "source": [
    "#normalized the data of Gold Reserve and Inflation rate\n",
    "n = result['Inflation'].size\n",
    "result['Normalized Gold Reserve'] = (result['gold'] - result['gold'].mean())/(result['gold'].std()/np.sqrt(n))\n",
    "result['Normalized Inflation'] = (result['Inflation'] - result['Inflation'].mean())/(result['Inflation'].std()/np.sqrt(n))"
   ]
  },
  {
   "cell_type": "code",
   "execution_count": 17,
   "metadata": {
    "collapsed": false
   },
   "outputs": [],
   "source": [
    "#use the OLS regression test to find the r square\n",
    "import statsmodels.formula.api as smf\n",
    "Y = result['Normalized Gold Reserve']\n",
    "X = result['Normalized Inflation']\n",
    "results = smf.OLS(Y, X).fit()"
   ]
  },
  {
   "cell_type": "markdown",
   "metadata": {},
   "source": [
    "### Results"
   ]
  },
  {
   "cell_type": "code",
   "execution_count": 18,
   "metadata": {
    "collapsed": false
   },
   "outputs": [
    {
     "data": {
      "text/plain": [
       "-0.17656958403321321"
      ]
     },
     "execution_count": 18,
     "metadata": {},
     "output_type": "execute_result"
    }
   ],
   "source": [
    "result['Normalized Gold Reserve'].corr(result['Normalized Inflation'])"
   ]
  },
  {
   "cell_type": "markdown",
   "metadata": {},
   "source": [
    "*Find the corelationship between the normalized gold reserve and normalized inflation is -0.175 and it is a weak downhil (negative) linear relationship*"
   ]
  },
  {
   "cell_type": "code",
   "execution_count": 19,
   "metadata": {
    "collapsed": false
   },
   "outputs": [
    {
     "data": {
      "text/plain": [
       "<matplotlib.axes._subplots.AxesSubplot at 0x10e3f3d50>"
      ]
     },
     "execution_count": 19,
     "metadata": {},
     "output_type": "execute_result"
    },
    {
     "data": {
      "image/png": "[encoded data removed]",
      "text/plain": [
       "<matplotlib.figure.Figure at 0x106146b10>"
      ]
     },
     "metadata": {},
     "output_type": "display_data"
    }
   ],
   "source": [
    "result.plot(y = ['Normalized Gold Reserve','Normalized Inflation'],figsize=(15, 5))"
   ]
  },
  {
   "cell_type": "markdown",
   "metadata": {},
   "source": [
    "*Plot the normalized Gold Reserve and Normalized Inflation. We found that there is no bovious linear relationship*"
   ]
  },
  {
   "cell_type": "code",
   "execution_count": 20,
   "metadata": {
    "collapsed": false
   },
   "outputs": [
    {
     "data": {
      "text/plain": [
       "0.031176818005661966"
      ]
     },
     "execution_count": 20,
     "metadata": {},
     "output_type": "execute_result"
    }
   ],
   "source": [
    "results.rsquared"
   ]
  },
  {
   "cell_type": "code",
   "execution_count": 21,
   "metadata": {
    "collapsed": false
   },
   "outputs": [
    {
     "data": {
      "text/plain": [
       "Normalized Inflation    0.197204\n",
       "dtype: float64"
      ]
     },
     "execution_count": 21,
     "metadata": {},
     "output_type": "execute_result"
    }
   ],
   "source": [
    "results.pvalues"
   ]
  },
  {
   "cell_type": "markdown",
   "metadata": {},
   "source": [
    "*A large p-value (> 0.05) indicates weak evidence against the null hypothesis, so you fail to reject the null hypothesis.*"
   ]
  },
  {
   "cell_type": "markdown",
   "metadata": {},
   "source": [
    "### Links\n",
    "*All of our data was acquired from the world bank website (http://data.worldbank.org)*\n"
   ]
  }
 ],
 "metadata": {
  "kernelspec": {
   "display_name": "Python 2",
   "language": "python",
   "name": "python2"
  },
  "language_info": {
   "codemirror_mode": {
    "name": "ipython",
    "version": 2
   },
   "file_extension": ".py",
   "mimetype": "text/x-python",
   "name": "python",
   "nbconvert_exporter": "python",
   "pygments_lexer": "ipython2",
   "version": "2.7.11"
  }
 },
 "nbformat": 4,
 "nbformat_minor": 0
}
