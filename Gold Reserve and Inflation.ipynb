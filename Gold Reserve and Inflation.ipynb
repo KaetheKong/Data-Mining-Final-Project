{
 "cells": [
  {
   "cell_type": "markdown",
   "metadata": {},
   "source": [
    "# Project Hypothesis Testing:\n",
    "\n",
    "Gold and Currency: (Gold Reserve and Inflation) - Jiaren\n",
    "\n",
    "Gold was also used as the world reserve currency up through most of the 20th century. Gold Reserve limits the amount of money a country is allowed to print. The demand for gold increases during inflationary times due to its inherent value and limited supply.  \n",
    "\n",
    "Hypothesis: There is a relationship between the gold reserve and Inflation."
   ]
  },
  {
   "cell_type": "code",
   "execution_count": 2,
   "metadata": {
    "collapsed": true
   },
   "outputs": [],
   "source": [
    " import pandas as pd\n",
    "import numpy as np\n",
    "import matplotlib.pyplot as plt\n",
    "import matplotlib\n",
    "matplotlib.style.use('ggplot')\n",
    "%matplotlib inline"
   ]
  },
  {
   "cell_type": "code",
   "execution_count": 3,
   "metadata": {
    "collapsed": true
   },
   "outputs": [],
   "source": [
    "gold = pd.read_csv('gold.csv')\n",
    "cpi = pd.read_csv('CPI.csv')\n",
    "gold = gold.drop(['1960','2015','Series Code','Country Name','Country Code'], axis = 1)\n",
    "cpi = cpi.drop(['1960','2015','Series Code','Country Name','Country Code'], axis = 1)"
   ]
  },
  {
   "cell_type": "code",
   "execution_count": 4,
   "metadata": {
    "collapsed": false
   },
   "outputs": [],
   "source": [
    "with_gold = gold.loc[0]\n",
    "without_gold = gold.loc[1]\n",
    "cpi = cpi.loc[0]"
   ]
  },
  {
   "cell_type": "code",
   "execution_count": 5,
   "metadata": {
    "collapsed": false
   },
   "outputs": [],
   "source": [
    "m_with_gold = np.matrix(with_gold)\n",
    "m_without_gold = np.matrix(without_gold)\n",
    "m_without_gold[0] = m_without_gold[0].astype(np.float)\n",
    "m_with_gold[0] = m_with_gold[0].astype(np.float)"
   ]
  },
  {
   "cell_type": "code",
   "execution_count": 6,
   "metadata": {
    "collapsed": false
   },
   "outputs": [],
   "source": [
    "gold = np.subtract(m_with_gold,m_without_gold )\n",
    "gold = gold[0].tolist()\n",
    "gold = gold[0]"
   ]
  },
  {
   "cell_type": "code",
   "execution_count": 7,
   "metadata": {
    "collapsed": false
   },
   "outputs": [],
   "source": [
    "result = pd.DataFrame()\n",
    "result['Inflation'] = cpi\n",
    "result['gold'] = gold"
   ]
  },
  {
   "cell_type": "code",
   "execution_count": 8,
   "metadata": {
    "collapsed": false
   },
   "outputs": [],
   "source": [
    "goldDF = pd.DataFrame()\n",
    "inflation = pd.DataFrame()\n",
    "goldDF['gold'] = gold\n",
    "inflation['Inflation'] = cpi"
   ]
  },
  {
   "cell_type": "code",
   "execution_count": 9,
   "metadata": {
    "collapsed": true
   },
   "outputs": [],
   "source": [
    "from sklearn.preprocessing import normalize"
   ]
  },
  {
   "cell_type": "code",
   "execution_count": 10,
   "metadata": {
    "collapsed": false
   },
   "outputs": [],
   "source": [
    "n = result['Inflation'].size\n",
    "result['Normalized Gold Reserve'] = (result['gold'] - result['gold'].mean())/(result['gold'].std()/np.sqrt(n))\n",
    "result['Normalized Inflation'] = (result['Inflation'] - result['Inflation'].mean())/(result['Inflation'].std()/np.sqrt(n))"
   ]
  },
  {
   "cell_type": "code",
   "execution_count": 11,
   "metadata": {
    "collapsed": false
   },
   "outputs": [
    {
     "data": {
      "text/plain": [
       "-0.17656958403321321"
      ]
     },
     "execution_count": 11,
     "metadata": {},
     "output_type": "execute_result"
    }
   ],
   "source": [
    "result['Normalized Gold Reserve'].corr(result['Normalized Inflation'])"
   ]
  },
  {
   "cell_type": "code",
   "execution_count": 12,
   "metadata": {
    "collapsed": false,
    "scrolled": true
   },
   "outputs": [
    {
     "data": {
      "text/plain": [
       "<matplotlib.axes._subplots.AxesSubplot at 0x10d8dd2d0>"
      ]
     },
     "execution_count": 12,
     "metadata": {},
     "output_type": "execute_result"
    },
    {
     "data": {
      "image/png": "[encoded data removed]",
      "text/plain": [
       "<matplotlib.figure.Figure at 0x10d8b7950>"
      ]
     },
     "metadata": {},
     "output_type": "display_data"
    }
   ],
   "source": [
    "result.plot(y = ['Normalized Gold Reserve','Normalized Inflation'],figsize=(5, 2.5))"
   ]
  },
  {
   "cell_type": "markdown",
   "metadata": {
    "collapsed": true
   },
   "source": [
    "A weak downhill (negative) linear relationship"
   ]
  },
  {
   "cell_type": "code",
   "execution_count": 14,
   "metadata": {
    "collapsed": false
   },
   "outputs": [
    {
     "data": {
      "text/plain": [
       "0.031176818005661966"
      ]
     },
     "execution_count": 14,
     "metadata": {},
     "output_type": "execute_result"
    }
   ],
   "source": [
    "import statsmodels.formula.api as smf\n",
    "Y = result['Normalized Gold Reserve']\n",
    "X = result['Normalized Inflation']\n",
    "results = smf.OLS(Y, X).fit()\n",
    "results.rsquared"
   ]
  },
  {
   "cell_type": "code",
   "execution_count": 15,
   "metadata": {
    "collapsed": false
   },
   "outputs": [
    {
     "data": {
      "text/plain": [
       "Normalized Inflation    0.197204\n",
       "dtype: float64"
      ]
     },
     "execution_count": 15,
     "metadata": {},
     "output_type": "execute_result"
    }
   ],
   "source": [
    "results.pvalues"
   ]
  },
  {
   "cell_type": "markdown",
   "metadata": {},
   "source": [
    "# P value is 0.197 (greater than 0.05)\n",
    "A large p-value (> 0.05) indicates weak evidence against the null hypothesis, so you fail to reject the null hypothesis."
   ]
  }
 ],
 "metadata": {
  "kernelspec": {
   "display_name": "Python 2",
   "language": "python",
   "name": "python2"
  },
  "language_info": {
   "codemirror_mode": {
    "name": "ipython",
    "version": 2
   },
   "file_extension": ".py",
   "mimetype": "text/x-python",
   "name": "python",
   "nbconvert_exporter": "python",
   "pygments_lexer": "ipython2",
   "version": "2.7.11"
  }
 },
 "nbformat": 4,
 "nbformat_minor": 0
}
