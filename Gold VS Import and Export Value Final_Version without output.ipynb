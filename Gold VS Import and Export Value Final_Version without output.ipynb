{
 "cells": [
  {
   "cell_type": "markdown",
   "metadata": {},
   "source": [
    "# Gold Price VS Import Values and Export Values ##"
   ]
  },
  {
   "cell_type": "markdown",
   "metadata": {},
   "source": [
    "We are interested in determing the relationship between gold price versus import values and gold price versus export values. To find out, we obtain monthly gold price from Internet, monthly import and export value for different countries from IMF data library. "
   ]
  },
  {
   "cell_type": "markdown",
   "metadata": {},
   "source": [
    "## Extract import values and Export values"
   ]
  },
  {
   "cell_type": "code",
   "execution_count": null,
   "metadata": {
    "collapsed": true
   },
   "outputs": [],
   "source": [
    "import pandas as pd\n",
    "import matplotlib.pyplot as plt\n",
    "import matplotlib\n",
    "matplotlib.style.use('ggplot')\n",
    "%matplotlib inline\n",
    "import numpy as np\n",
    "import statsmodels.formula.api as smf"
   ]
  },
  {
   "cell_type": "markdown",
   "metadata": {},
   "source": [
    "Define functions to split values for different countries"
   ]
  },
  {
   "cell_type": "code",
   "execution_count": null,
   "metadata": {
    "collapsed": true
   },
   "outputs": [],
   "source": [
    "# get import values for select country\n",
    "def selectImportCountry(country):\n",
    "    selector = import_data[['Country Name']].values == country\n",
    "    temp = import_data[selector]\n",
    "    temp = temp[temp['Time Period'].astype('string').str.contains('M')]\n",
    "    temp['Time Period'] = temp['Time Period'].astype('string').str.replace('M','-')\n",
    "    temp['Time Period'] = pd.to_datetime(temp['Time Period'])\n",
    "    temp.sort_values(['Time Period'], ascending = 1)\n",
    "    return temp.drop(['Indicator Code','Country Code'], axis = 1)"
   ]
  },
  {
   "cell_type": "code",
   "execution_count": null,
   "metadata": {
    "collapsed": true
   },
   "outputs": [],
   "source": [
    "# get export vlues for select country\n",
    "def selectExportCountry(country):\n",
    "    selector = export_data[['Country Name']].values == country\n",
    "    temp = export_data[selector]\n",
    "    temp = temp[temp['Time Period'].astype('string').str.contains('M')]\n",
    "    temp['Time Period'] = temp['Time Period'].astype('string').str.replace('M','-')\n",
    "    temp['Time Period'] = pd.to_datetime(temp['Time Period'])\n",
    "    temp.sort_values(['Time Period'], ascending = 1)\n",
    "    return temp.drop(['Indicator Code','Country Code'], axis = 1)"
   ]
  },
  {
   "cell_type": "code",
   "execution_count": null,
   "metadata": {
    "collapsed": true
   },
   "outputs": [],
   "source": [
    "# calculate the correlation between gold price and import or export values\n",
    "def calCorrelation(dataFrame):\n",
    "    corr = dataFrame['gold price'].corr(dataFrame['Value'])\n",
    "    print corr"
   ]
  },
  {
   "cell_type": "code",
   "execution_count": null,
   "metadata": {
    "collapsed": true
   },
   "outputs": [],
   "source": [
    "# normalized data\n",
    "def normalizeDate(dataframe):\n",
    "    dataframe['normalized gold price'] = \\\n",
    "    (dataframe['gold price']- dataframe['gold price'].mean())/(dataframe['gold price'].std()/np.sqrt(dataframe['Time Period'].size))\n",
    "    dataframe['normalized value'] = \\\n",
    "    (dataframe['Value'] - dataframe['Value'].mean())/(dataframe['Value'].std()/np.sqrt(dataframe['Time Period'].size))                                                             "
   ]
  },
  {
   "cell_type": "code",
   "execution_count": null,
   "metadata": {
    "collapsed": true
   },
   "outputs": [],
   "source": [
    "# calculate the correlation after normalization\n",
    "def calNormCorrelation(dataFrame):\n",
    "    normalCorr = dataFrame['normalized gold price'].corr(dataFrame['normalized value'])\n",
    "    print normalCorr"
   ]
  },
  {
   "cell_type": "code",
   "execution_count": null,
   "metadata": {
    "collapsed": true
   },
   "outputs": [],
   "source": [
    "# plot time vs gold price and import or export values\n",
    "def plotTimeSeriesData(dataFrame, isImport):\n",
    "    dataFrame.plot(x = ['Time Period'], y = ['normalized gold price','normalized value'])\n",
    "    if(isImport):\n",
    "        plt.title('Gold Price VS ' + dataFrame['Country Name'][0] + ' import values')\n",
    "    else:\n",
    "        plt.title('Gold Price VS ' + dataFrame['Country Name'][0] + ' export values')"
   ]
  },
  {
   "cell_type": "code",
   "execution_count": null,
   "metadata": {
    "collapsed": true
   },
   "outputs": [],
   "source": [
    "# summarize results\n",
    "def summaryResult(dataFrame):\n",
    "    x = dataFrame['normalized gold price']\n",
    "    y = dataFrame['normalized value']\n",
    "    results = smf.OLS(y,x).fit()\n",
    "    print dataFrame['Country Name'][0]\n",
    "    print results.summary()\n",
    "    print \"~~~~~~~~~~~~~~~~~~~~~~~~~~~~~~~~~~~~~~~~~~~~~~~~~~~~~~~~~~~~~~~~~~~~~~~~~~~~~~~~~~\\n \\n \\n\""
   ]
  },
  {
   "cell_type": "markdown",
   "metadata": {},
   "source": [
    "Fetch date from pre-processed dataset"
   ]
  },
  {
   "cell_type": "code",
   "execution_count": null,
   "metadata": {
    "collapsed": true
   },
   "outputs": [],
   "source": [
    "import_data = pd.read_csv('import_value.csv').drop('Unnamed: 0',1).drop('Status',1).drop('Unnamed: 7',1)\n",
    "export_data = pd.read_csv('export_value.csv').drop('Unnamed: 0',1).drop('Status',1).drop('Unnamed: 7',1)\n",
    "gold_price = pd.read_csv('gold price.csv')\n",
    "gold_price.columns=['Time Period','gold price']\n",
    "gold_price['Time Period'] = pd.to_datetime(gold_price['Time Period'])"
   ]
  },
  {
   "cell_type": "code",
   "execution_count": null,
   "metadata": {
    "collapsed": true
   },
   "outputs": [],
   "source": [
    "# final all unique countries in both import data and export data\n",
    "country_name_1 = import_data['Country Name'].unique()\n",
    "country_name_2 = export_data['Country Name'].unique()\n",
    "country_name = set(country_name_1).intersection(country_name_2)\n",
    "country_name =list(country_name)\n"
   ]
  },
  {
   "cell_type": "code",
   "execution_count": null,
   "metadata": {
    "collapsed": false
   },
   "outputs": [],
   "source": [
    "# generate import and exprot countries lists\n",
    "country_name_import = []\n",
    "country_name_export = []\n",
    "N_countries = len(country_name)\n",
    "for i in range(0,N_countries):\n",
    "    country_name_import.append(country_name[i] + \"\" + \"_import\")\n",
    "    country_name_export.append(country_name[i] + \"\" + \"_export\")"
   ]
  },
  {
   "cell_type": "code",
   "execution_count": null,
   "metadata": {
    "collapsed": false
   },
   "outputs": [],
   "source": [
    "# extract import and export values for each country\n",
    "for i in range(N_countries):\n",
    "    country_name_import[i] = selectImportCountry(country_name[i]).sort_values(['Time Period'], ascending = 1)\n",
    "    country_name_export[i] = selectExportCountry(country_name[i]).sort_values(['Time Period'], ascending = 1)"
   ]
  },
  {
   "cell_type": "code",
   "execution_count": null,
   "metadata": {
    "collapsed": true
   },
   "outputs": [],
   "source": [
    "# delete empty dataframe in import data\n",
    "temp_import_list = []\n",
    "for i in range(N_countries):\n",
    "    temp_import_df = country_name_import[i]\n",
    "    if(temp_import_df.size != 0):\n",
    "        temp_import_list.append(temp_import_df)\n",
    "country_name_import = temp_import_list"
   ]
  },
  {
   "cell_type": "code",
   "execution_count": null,
   "metadata": {
    "collapsed": true
   },
   "outputs": [],
   "source": [
    "# delete empty dataframe in import data\n",
    "temp_export_list = []\n",
    "for i in range(N_countries):\n",
    "    temp_export_df = country_name_export[i]\n",
    "    if(temp_export_df.size != 0):\n",
    "        temp_export_list.append(temp_export_df)\n",
    "country_name_export = temp_export_list"
   ]
  },
  {
   "cell_type": "code",
   "execution_count": null,
   "metadata": {
    "collapsed": false
   },
   "outputs": [],
   "source": [
    "# create two new list to contain gold price versus import and export values for each countries\n",
    "gold_country_import = []\n",
    "gold_country_export = []\n",
    "N_import = len(country_name_import)\n",
    "N_export = len(country_name_export)\n",
    "for i in range(N_import):\n",
    "    gold_country_import.append(\"gold_\" + country_name[i] + \"_import\")\n",
    "for i in range(N_export):\n",
    "    gold_country_export.append(\"gold_\" + country_name[i] + \"_export\")"
   ]
  },
  {
   "cell_type": "code",
   "execution_count": null,
   "metadata": {
    "collapsed": false
   },
   "outputs": [],
   "source": [
    "# concatenate gold price and import, export values\n",
    "for i in range(N_import):\n",
    "    gold_country_import[i] = pd.merge(gold_price, country_name_import[i], on='Time Period')\n",
    "for i in range(N_export):\n",
    "    gold_country_export[i] = pd.merge(gold_price, country_name_export[i], on='Time Period')"
   ]
  },
  {
   "cell_type": "code",
   "execution_count": null,
   "metadata": {
    "collapsed": false
   },
   "outputs": [],
   "source": [
    "# normalize the data \n",
    "for i in range(N_import):\n",
    "    normalizeDate(gold_country_import[i])\n",
    "for i in range(N_export):\n",
    "    normalizeDate(gold_country_export[i])"
   ]
  },
  {
   "cell_type": "code",
   "execution_count": null,
   "metadata": {
    "collapsed": false,
    "scrolled": false
   },
   "outputs": [],
   "source": [
    "# calculate and print out correlation after normalization\n",
    "for i in range(N_import):\n",
    "    print \"=======================================\"\n",
    "    print country_name[i]\n",
    "    print \"Gold Price VS Import Value Correlation\"\n",
    "    calNormCorrelation(gold_country_import[i])\n",
    "    print gold_country_export[i]['Country Name'][0]\n",
    "    print \"Gold Price VS Export Value Correlation\"\n",
    "    calNormCorrelation(gold_country_export[i])\n",
    "    print \"=======================================\\n\""
   ]
  },
  {
   "cell_type": "code",
   "execution_count": null,
   "metadata": {
    "collapsed": false,
    "scrolled": false
   },
   "outputs": [],
   "source": [
    "# plot time series vs gold price and import, export values\n",
    "for i in range(N_import):\n",
    "    plotTimeSeriesData(gold_country_import[i], True)"
   ]
  },
  {
   "cell_type": "code",
   "execution_count": null,
   "metadata": {
    "collapsed": false,
    "scrolled": false
   },
   "outputs": [],
   "source": [
    "for i in range(N_export):\n",
    "    plotTimeSeriesData(gold_country_export[i], False)"
   ]
  },
  {
   "cell_type": "code",
   "execution_count": null,
   "metadata": {
    "collapsed": false,
    "scrolled": false
   },
   "outputs": [],
   "source": [
    "# Summarize the results\n",
    "for i in range(N_import):\n",
    "    summaryResult(gold_country_import[i])"
   ]
  },
  {
   "cell_type": "code",
   "execution_count": null,
   "metadata": {
    "collapsed": false,
    "scrolled": false
   },
   "outputs": [],
   "source": [
    "# Summarize the results\n",
    "for i in range(N_export):\n",
    "    summaryResult(gold_country_export[i])"
   ]
  }
 ],
 "metadata": {
  "kernelspec": {
   "display_name": "Python 2",
   "language": "python",
   "name": "python2"
  },
  "language_info": {
   "codemirror_mode": {
    "name": "ipython",
    "version": 2
   },
   "file_extension": ".py",
   "mimetype": "text/x-python",
   "name": "python",
   "nbconvert_exporter": "python",
   "pygments_lexer": "ipython2",
   "version": "2.7.11"
  }
 },
 "nbformat": 4,
 "nbformat_minor": 0
}
