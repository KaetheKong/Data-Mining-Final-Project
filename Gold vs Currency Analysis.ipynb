{
 "cells": [
  {
   "cell_type": "code",
   "execution_count": 30,
   "metadata": {
    "collapsed": true
   },
   "outputs": [],
   "source": [
    "import matplotlib.pyplot as plt\n",
    "import matplotlib\n",
    "matplotlib.style.use('ggplot')\n",
    "%matplotlib inline\n",
    "import pandas as pd\n",
    "import numpy as np"
   ]
  },
  {
   "cell_type": "code",
   "execution_count": 31,
   "metadata": {
    "collapsed": false
   },
   "outputs": [],
   "source": [
    "#read Gold Price\n",
    "gold_data = pd.read_csv('gold price.csv')\n",
    "gold_data.head()\n",
    "gold_data.columns=['date','gold price']"
   ]
  },
  {
   "cell_type": "markdown",
   "metadata": {},
   "source": [
    "### Background Introduction: Hypothesis Setting and Supporting Reason\n",
    "Our team suspect existence of some kind of inverse relationship between the global \n",
    "\n",
    "gold price and an opaque currency value. The supporting reason behind this hypothesis is that, \n",
    "\n",
    "when gold price rises, which means people invests more on the capital goods and less on the \n",
    "\n",
    "commercial good which causes decrease in the quantity demand for the oil; since the quantity \n",
    "\n",
    "demand for the oil decrease, according to the positive-slope supply function, the oil price \n",
    "\n",
    "should decrease. For an opaque country, whose main economy part is oil export, it’s amount of \n",
    "\n",
    "oil export should go down. To stimulate the oil export and promote the its economic growth, \n",
    "\n",
    "the value of the country’s currency should depreciate. Based on this economic-conceptual \n",
    "\n",
    "induction, global price of gold and an opaque country’s currency exchange rate should be \n",
    "\n",
    "inversely related."
   ]
  },
  {
   "cell_type": "code",
   "execution_count": 32,
   "metadata": {
    "collapsed": false
   },
   "outputs": [],
   "source": [
    "#read Exchange Rate\n",
    "exchange_data = pd.read_csv('Exchange Rate.csv',skiprows=4)"
   ]
  },
  {
   "cell_type": "code",
   "execution_count": 33,
   "metadata": {
    "collapsed": false
   },
   "outputs": [],
   "source": [
    "# Select out the exchange rate between US Dollar and Saudi Arabian Riyal\\\n",
    "# which is a leading Opaque Country's currency \n",
    "USD_SAR = exchange_data[['End Date','USD/SAR']]"
   ]
  },
  {
   "cell_type": "code",
   "execution_count": 34,
   "metadata": {
    "collapsed": false
   },
   "outputs": [],
   "source": [
    "# rename the columns of the data frame\n",
    "USD_SAR.columns = ['date','USD/SAR']"
   ]
  },
  {
   "cell_type": "code",
   "execution_count": 35,
   "metadata": {
    "collapsed": false
   },
   "outputs": [],
   "source": [
    "# convert the date to its standard format\n",
    "gold_data['date'] = pd.to_datetime(gold_data.date)\n",
    "USD_SAR = USD_SAR[:9504]\n",
    "USD_SAR['date'] = pd.to_datetime(USD_SAR.date)\n"
   ]
  },
  {
   "cell_type": "code",
   "execution_count": 36,
   "metadata": {
    "collapsed": false
   },
   "outputs": [],
   "source": [
    "# combine the exchange rate data and gold price data using function 'pd.merge\"\n",
    "combine_data = pd.merge(gold_data, USD_SAR, on='date')\n"
   ]
  },
  {
   "cell_type": "code",
   "execution_count": 37,
   "metadata": {
    "collapsed": false
   },
   "outputs": [
    {
     "data": {
      "text/plain": [
       "-0.2586474625278099"
      ]
     },
     "execution_count": 37,
     "metadata": {},
     "output_type": "execute_result"
    }
   ],
   "source": [
    "# Calculate the correlation (R-square value) of the gold price and exchange rate\n",
    "combine_data['gold price'].corr(combine_data['USD/SAR'])"
   ]
  },
  {
   "cell_type": "markdown",
   "metadata": {},
   "source": [
    "### negative value of correlation indicates that those two objects are negatively correlated."
   ]
  },
  {
   "cell_type": "code",
   "execution_count": 38,
   "metadata": {
    "collapsed": false
   },
   "outputs": [],
   "source": [
    "# standardize the values in the combined data frame\n",
    "n = combine_data['date'].size\n",
    "combine_data['normalized gold price'] = \\\n",
    "(gold_data['gold price']- gold_data['gold price'].mean())/(gold_data['gold price'].std()/np.sqrt(n))\n",
    "combine_data['normalized rate'] = \\\n",
    "(USD_SAR['USD/SAR']- USD_SAR['USD/SAR'].mean())/(USD_SAR['USD/SAR'].std()/np.sqrt(n))"
   ]
  },
  {
   "cell_type": "code",
   "execution_count": 39,
   "metadata": {
    "collapsed": false
   },
   "outputs": [
    {
     "data": {
      "text/plain": [
       "<matplotlib.axes._subplots.AxesSubplot at 0x113979710>"
      ]
     },
     "execution_count": 39,
     "metadata": {},
     "output_type": "execute_result"
    },
    {
     "data": {
      "image/png": "[encoded data removed]",
      "text/plain": [
       "<matplotlib.figure.Figure at 0x113bf0090>"
      ]
     },
     "metadata": {},
     "output_type": "display_data"
    }
   ],
   "source": [
    "# plot the standardized date and normalized gold price\n",
    "ax = combine_data.plot(x = 'date' , y = 'normalized gold price')\n",
    "combine_data.plot(x = 'date', y = 'normalized rate', ax = ax)"
   ]
  },
  {
   "cell_type": "code",
   "execution_count": 40,
   "metadata": {
    "collapsed": true
   },
   "outputs": [],
   "source": [
    "import statsmodels.api as sm"
   ]
  },
  {
   "cell_type": "code",
   "execution_count": 41,
   "metadata": {
    "collapsed": false
   },
   "outputs": [],
   "source": [
    "Y = com_in['normalized gold price']\n",
    "X = com_in['normalized rate']\n",
    "results = sm.OLS(Y, X, True).fit()"
   ]
  },
  {
   "cell_type": "code",
   "execution_count": 42,
   "metadata": {
    "collapsed": false,
    "scrolled": false
   },
   "outputs": [
    {
     "data": {
      "text/html": [
       "<table class=\"simpletable\">\n",
       "<caption>OLS Regression Results</caption>\n",
       "<tr>\n",
       "  <th>Dep. Variable:</th>    <td>normalized gold price</td> <th>  R-squared:         </th> <td>   0.089</td>\n",
       "</tr>\n",
       "<tr>\n",
       "  <th>Model:</th>                     <td>OLS</td>          <th>  Adj. R-squared:    </th> <td>   0.086</td>\n",
       "</tr>\n",
       "<tr>\n",
       "  <th>Method:</th>               <td>Least Squares</td>     <th>  F-statistic:       </th> <td>   28.52</td>\n",
       "</tr>\n",
       "<tr>\n",
       "  <th>Date:</th>               <td>Thu, 18 Feb 2016</td>    <th>  Prob (F-statistic):</th> <td>1.86e-07</td>\n",
       "</tr>\n",
       "<tr>\n",
       "  <th>Time:</th>                   <td>12:03:12</td>        <th>  Log-Likelihood:    </th> <td> -1164.3</td>\n",
       "</tr>\n",
       "<tr>\n",
       "  <th>No. Observations:</th>        <td>   294</td>         <th>  AIC:               </th> <td>   2331.</td>\n",
       "</tr>\n",
       "<tr>\n",
       "  <th>Df Residuals:</th>            <td>   293</td>         <th>  BIC:               </th> <td>   2334.</td>\n",
       "</tr>\n",
       "<tr>\n",
       "  <th>Df Model:</th>                <td>     1</td>         <th>                     </th>     <td> </td>   \n",
       "</tr>\n",
       "<tr>\n",
       "  <th>Covariance Type:</th>        <td>nonrobust</td>       <th>                     </th>     <td> </td>   \n",
       "</tr>\n",
       "</table>\n",
       "<table class=\"simpletable\">\n",
       "<tr>\n",
       "         <td></td>            <th>coef</th>     <th>std err</th>      <th>t</th>      <th>P>|t|</th> <th>[95.0% Conf. Int.]</th> \n",
       "</tr>\n",
       "<tr>\n",
       "  <th>normalized rate</th> <td>    0.5902</td> <td>    0.111</td> <td>    5.341</td> <td> 0.000</td> <td>    0.373     0.808</td>\n",
       "</tr>\n",
       "</table>\n",
       "<table class=\"simpletable\">\n",
       "<tr>\n",
       "  <th>Omnibus:</th>       <td>48.075</td> <th>  Durbin-Watson:     </th> <td>   0.042</td> \n",
       "</tr>\n",
       "<tr>\n",
       "  <th>Prob(Omnibus):</th> <td> 0.000</td> <th>  Jarque-Bera (JB):  </th> <td> 500.958</td> \n",
       "</tr>\n",
       "<tr>\n",
       "  <th>Skew:</th>          <td>-0.003</td> <th>  Prob(JB):          </th> <td>1.65e-109</td>\n",
       "</tr>\n",
       "<tr>\n",
       "  <th>Kurtosis:</th>      <td> 9.395</td> <th>  Cond. No.          </th> <td>    1.00</td> \n",
       "</tr>\n",
       "</table>"
      ],
      "text/plain": [
       "<class 'statsmodels.iolib.summary.Summary'>\n",
       "\"\"\"\n",
       "                              OLS Regression Results                             \n",
       "=================================================================================\n",
       "Dep. Variable:     normalized gold price   R-squared:                       0.089\n",
       "Model:                               OLS   Adj. R-squared:                  0.086\n",
       "Method:                    Least Squares   F-statistic:                     28.52\n",
       "Date:                   Thu, 18 Feb 2016   Prob (F-statistic):           1.86e-07\n",
       "Time:                           12:03:12   Log-Likelihood:                -1164.3\n",
       "No. Observations:                    294   AIC:                             2331.\n",
       "Df Residuals:                        293   BIC:                             2334.\n",
       "Df Model:                              1                                         \n",
       "Covariance Type:               nonrobust                                         \n",
       "===================================================================================\n",
       "                      coef    std err          t      P>|t|      [95.0% Conf. Int.]\n",
       "-----------------------------------------------------------------------------------\n",
       "normalized rate     0.5902      0.111      5.341      0.000         0.373     0.808\n",
       "==============================================================================\n",
       "Omnibus:                       48.075   Durbin-Watson:                   0.042\n",
       "Prob(Omnibus):                  0.000   Jarque-Bera (JB):              500.958\n",
       "Skew:                          -0.003   Prob(JB):                    1.65e-109\n",
       "Kurtosis:                       9.395   Cond. No.                         1.00\n",
       "==============================================================================\n",
       "\n",
       "Warnings:\n",
       "[1] Standard Errors assume that the covariance matrix of the errors is correctly specified.\n",
       "\"\"\""
      ]
     },
     "execution_count": 42,
     "metadata": {},
     "output_type": "execute_result"
    }
   ],
   "source": [
    "results.summary()"
   ]
  },
  {
   "cell_type": "code",
   "execution_count": 43,
   "metadata": {
    "collapsed": false
   },
   "outputs": [
    {
     "data": {
      "text/plain": [
       "0.10700903832174709"
      ]
     },
     "execution_count": 43,
     "metadata": {},
     "output_type": "execute_result"
    }
   ],
   "source": [
    "combine_data['normalized gold price'].corr(combine_data['normalized rate'])"
   ]
  },
  {
   "cell_type": "markdown",
   "metadata": {},
   "source": [
    "### Since the R^2 value is smaller than 0.1, which indicates the chance that the gold price and the exchange rate are related is extremely low."
   ]
  },
  {
   "cell_type": "code",
   "execution_count": 44,
   "metadata": {
    "collapsed": true
   },
   "outputs": [],
   "source": [
    "import statsmodels.formula.api as smf"
   ]
  },
  {
   "cell_type": "code",
   "execution_count": 45,
   "metadata": {
    "collapsed": true
   },
   "outputs": [],
   "source": [
    "x = combine_data['normalized gold price']\n",
    "y = combine_data['normalized rate']"
   ]
  },
  {
   "cell_type": "code",
   "execution_count": 46,
   "metadata": {
    "collapsed": false
   },
   "outputs": [],
   "source": [
    "results = smf.OLS(y, x).fit()"
   ]
  },
  {
   "cell_type": "code",
   "execution_count": 47,
   "metadata": {
    "collapsed": false
   },
   "outputs": [
    {
     "data": {
      "text/plain": [
       "0.088714379188486348"
      ]
     },
     "execution_count": 47,
     "metadata": {},
     "output_type": "execute_result"
    }
   ],
   "source": [
    "results.rsquared"
   ]
  },
  {
   "cell_type": "markdown",
   "metadata": {},
   "source": [
    "Due to the extremem low value of gold price and currency, "
   ]
  },
  {
   "cell_type": "code",
   "execution_count": 48,
   "metadata": {
    "collapsed": false,
    "scrolled": true
   },
   "outputs": [
    {
     "data": {
      "text/plain": [
       "normalized gold price    1.860070e-07\n",
       "dtype: float64"
      ]
     },
     "execution_count": 48,
     "metadata": {},
     "output_type": "execute_result"
    }
   ],
   "source": [
    "results.pvalues"
   ]
  },
  {
   "cell_type": "markdown",
   "metadata": {},
   "source": [
    "### the following code checks if the gold price is influenced by the price index."
   ]
  },
  {
   "cell_type": "code",
   "execution_count": 49,
   "metadata": {
    "collapsed": false
   },
   "outputs": [],
   "source": [
    "pricein = pd.read_excel('Price Index.xls')"
   ]
  },
  {
   "cell_type": "code",
   "execution_count": 50,
   "metadata": {
    "collapsed": false
   },
   "outputs": [],
   "source": [
    "pricein.DATE = pd.to_datetime(pricein.DATE)"
   ]
  },
  {
   "cell_type": "code",
   "execution_count": 51,
   "metadata": {
    "collapsed": false
   },
   "outputs": [],
   "source": [
    "pricein.columns = ['date','value']"
   ]
  },
  {
   "cell_type": "code",
   "execution_count": 52,
   "metadata": {
    "collapsed": false
   },
   "outputs": [],
   "source": [
    "com_in = pd.merge(combine_data,pricein,on = 'date')\n",
    "n = com_in['date'].size\n",
    "# normal lize the price index\n",
    "com_in['value'] = \\\n",
    "(com_in['value']- com_in['value'].mean())/(com_in['value'].std()/np.sqrt(n))"
   ]
  },
  {
   "cell_type": "markdown",
   "metadata": {},
   "source": [
    "construct the plot of normalized gold price and price index. From observation, the price index rises with a positive slope over the years while the gold price remains unchanged in times. "
   ]
  },
  {
   "cell_type": "code",
   "execution_count": 53,
   "metadata": {
    "collapsed": false
   },
   "outputs": [
    {
     "data": {
      "text/plain": [
       "<matplotlib.axes._subplots.AxesSubplot at 0x1141c7d90>"
      ]
     },
     "execution_count": 53,
     "metadata": {},
     "output_type": "execute_result"
    },
    {
     "data": {
      "image/png": "[encoded data removed]",
      "text/plain": [
       "<matplotlib.figure.Figure at 0x114197ad0>"
      ]
     },
     "metadata": {},
     "output_type": "display_data"
    }
   ],
   "source": [
    "ax = com_in.plot(x = 'date' , y = 'normalized gold price')\n",
    "com_in.plot(x = 'date', y = 'value', ax = ax)"
   ]
  },
  {
   "cell_type": "markdown",
   "metadata": {},
   "source": [
    "#### After plotting the normlized gold price and the price index, I observed that gold price hardly change any over the years. This strength the results I got above that, it is very unlikely to gold price have any connection with exchange rate. "
   ]
  },
  {
   "cell_type": "code",
   "execution_count": null,
   "metadata": {
    "collapsed": false
   },
   "outputs": [],
   "source": []
  },
  {
   "cell_type": "code",
   "execution_count": null,
   "metadata": {
    "collapsed": true
   },
   "outputs": [],
   "source": []
  }
 ],
 "metadata": {
  "kernelspec": {
   "display_name": "Python 2",
   "language": "python",
   "name": "python2"
  },
  "language_info": {
   "codemirror_mode": {
    "name": "ipython",
    "version": 2
   },
   "file_extension": ".py",
   "mimetype": "text/x-python",
   "name": "python",
   "nbconvert_exporter": "python",
   "pygments_lexer": "ipython2",
   "version": "2.7.11"
  }
 },
 "nbformat": 4,
 "nbformat_minor": 0
}
