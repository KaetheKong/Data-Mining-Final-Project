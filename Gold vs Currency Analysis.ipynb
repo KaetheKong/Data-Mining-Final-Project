{
 "cells": [
  {
   "cell_type": "code",
   "execution_count": 100,
   "metadata": {
    "collapsed": true
   },
   "outputs": [],
   "source": [
    "import matplotlib.pyplot as plt\n",
    "import matplotlib\n",
    "matplotlib.style.use('ggplot')\n",
    "%matplotlib inline\n",
    "import pandas as pd\n",
    "import numpy as np"
   ]
  },
  {
   "cell_type": "code",
   "execution_count": 101,
   "metadata": {
    "collapsed": false
   },
   "outputs": [],
   "source": [
    "#read Gold Price\n",
    "gold_data = pd.read_csv('gold price.csv')\n",
    "gold_data.head()\n",
    "gold_data.columns=['date','gold price']"
   ]
  },
  {
   "cell_type": "markdown",
   "metadata": {},
   "source": [
    "Our team suspect existence of some kind of inverse relationship between the global \n",
    "\n",
    "gold price and an opaque currency value. The supporting reason behind this hypothesis is that, \n",
    "\n",
    "when gold price rises, which means people invests more on the capital goods and less on the \n",
    "\n",
    "commercial good which causes decrease in the quantity demand for the oil; since the quantity \n",
    "\n",
    "demand for the oil decrease, according to the positive-slope supply function, the oil price \n",
    "\n",
    "should decrease. For an opaque country, whose main economy part is oil export, it’s amount of \n",
    "\n",
    "oil export should go down. To stimulate the oil export and promote the its economic growth, \n",
    "\n",
    "the value of the country’s currency should depreciate. Based on this economic-conceptual \n",
    "\n",
    "induction, global price of gold and an opaque country’s currency exchange rate should be \n",
    "\n",
    "inversely related."
   ]
  },
  {
   "cell_type": "code",
   "execution_count": 102,
   "metadata": {
    "collapsed": false
   },
   "outputs": [],
   "source": [
    "#read Exchange Rate\n",
    "exchange_data = pd.read_csv('Exchange Rate.csv',skiprows=4)"
   ]
  },
  {
   "cell_type": "code",
   "execution_count": 103,
   "metadata": {
    "collapsed": false
   },
   "outputs": [],
   "source": [
    "# Select out the exchange rate between US Dollar and Saudi Arabian Riyal\\\n",
    "# which is a leading Opaque Country's currency \n",
    "\n",
    "USD_SAR = exchange_data[['End Date','USD/SAR']]"
   ]
  },
  {
   "cell_type": "code",
   "execution_count": 104,
   "metadata": {
    "collapsed": false
   },
   "outputs": [],
   "source": [
    "USD_SAR.columns = ['date','USD/SAR']"
   ]
  },
  {
   "cell_type": "code",
   "execution_count": 105,
   "metadata": {
    "collapsed": false
   },
   "outputs": [],
   "source": [
    "gold_data['date'] = pd.to_datetime(gold_data.date)\n",
    "USD_SAR = USD_SAR[:9504]\n",
    "USD_SAR['date'] = pd.to_datetime(USD_SAR.date)\n"
   ]
  },
  {
   "cell_type": "code",
   "execution_count": 106,
   "metadata": {
    "collapsed": false
   },
   "outputs": [],
   "source": [
    "# combine the exchange rate data and gold price data using function 'pd.merge\"\n",
    "combine_data = pd.merge(gold_data, USD_SAR, on='date')\n"
   ]
  },
  {
   "cell_type": "code",
   "execution_count": 107,
   "metadata": {
    "collapsed": false
   },
   "outputs": [
    {
     "data": {
      "text/plain": [
       "-0.22330800563035272"
      ]
     },
     "execution_count": 107,
     "metadata": {},
     "output_type": "execute_result"
    }
   ],
   "source": [
    "# Calculate the correlation (R-square value) of the gold price and exchange rate\n",
    "combine_data['gold price'].corr(combine_data['USD/SAR'])"
   ]
  },
  {
   "cell_type": "markdown",
   "metadata": {},
   "source": [
    "### negative value of correlation indicates that those two objects are negatively correlated."
   ]
  },
  {
   "cell_type": "code",
   "execution_count": 108,
   "metadata": {
    "collapsed": false
   },
   "outputs": [],
   "source": [
    "n = combine_data['date'].size\n",
    "combine_data['normalized gold price'] = \\\n",
    "(gold_data['gold price']- gold_data['gold price'].mean())/(gold_data['gold price'].std()/np.sqrt(n))\n",
    "combine_data['normalized rate'] = \\\n",
    "(USD_SAR['USD/SAR']- USD_SAR['USD/SAR'].mean())/(USD_SAR['USD/SAR'].std()/np.sqrt(n))"
   ]
  },
  {
   "cell_type": "code",
   "execution_count": 109,
   "metadata": {
    "collapsed": false
   },
   "outputs": [
    {
     "data": {
      "text/plain": [
       "<matplotlib.axes._subplots.AxesSubplot at 0x11517f410>"
      ]
     },
     "execution_count": 109,
     "metadata": {},
     "output_type": "execute_result"
    },
    {
     "data": {
      "image/png": "[encoded data removed]",
      "text/plain": [
       "<matplotlib.figure.Figure at 0x115197450>"
      ]
     },
     "metadata": {},
     "output_type": "display_data"
    }
   ],
   "source": [
    "ax = combine_data.plot(x = 'date' , y = 'normalized gold price')\n",
    "combine_data.plot(x = 'date', y = 'normalized rate', ax = ax)"
   ]
  },
  {
   "cell_type": "code",
   "execution_count": 110,
   "metadata": {
    "collapsed": false
   },
   "outputs": [
    {
     "data": {
      "text/plain": [
       "0.092165857090644163"
      ]
     },
     "execution_count": 110,
     "metadata": {},
     "output_type": "execute_result"
    }
   ],
   "source": [
    "combine_data['normalized gold price'].corr(combine_data['normalized rate'])"
   ]
  },
  {
   "cell_type": "markdown",
   "metadata": {},
   "source": [
    "### Since the R^2 value is smaller than 0.1, which indicates the chance that the gold price and the exchange rate are related is extremely low."
   ]
  },
  {
   "cell_type": "code",
   "execution_count": 111,
   "metadata": {
    "collapsed": true
   },
   "outputs": [],
   "source": [
    "import statsmodels.formula.api as smf"
   ]
  },
  {
   "cell_type": "code",
   "execution_count": 112,
   "metadata": {
    "collapsed": true
   },
   "outputs": [],
   "source": [
    "x = combine_data['normalized gold price']\n",
    "y = combine_data['normalized rate']"
   ]
  },
  {
   "cell_type": "code",
   "execution_count": 113,
   "metadata": {
    "collapsed": false
   },
   "outputs": [],
   "source": [
    "results = smf.OLS(y, x).fit()"
   ]
  },
  {
   "cell_type": "code",
   "execution_count": 114,
   "metadata": {
    "collapsed": false
   },
   "outputs": [
    {
     "data": {
      "text/plain": [
       "0.089557369045742519"
      ]
     },
     "execution_count": 114,
     "metadata": {},
     "output_type": "execute_result"
    }
   ],
   "source": [
    "results.rsquared"
   ]
  },
  {
   "cell_type": "markdown",
   "metadata": {},
   "source": [
    "Due to the extremem low value of gold price and currency, "
   ]
  },
  {
   "cell_type": "code",
   "execution_count": 115,
   "metadata": {
    "collapsed": false
   },
   "outputs": [
    {
     "data": {
      "text/plain": [
       "normalized gold price    6.758036e-08\n",
       "dtype: float64"
      ]
     },
     "execution_count": 115,
     "metadata": {},
     "output_type": "execute_result"
    }
   ],
   "source": [
    "results.pvalues"
   ]
  },
  {
   "cell_type": "code",
   "execution_count": 116,
   "metadata": {
    "collapsed": false
   },
   "outputs": [],
   "source": [
    "pricein = pd.read_excel('Price Index.xls')"
   ]
  },
  {
   "cell_type": "code",
   "execution_count": 117,
   "metadata": {
    "collapsed": false
   },
   "outputs": [],
   "source": [
    "pricein.DATE = pd.to_datetime(pricein.DATE)"
   ]
  },
  {
   "cell_type": "code",
   "execution_count": 126,
   "metadata": {
    "collapsed": false
   },
   "outputs": [
    {
     "data": {
      "text/html": [
       "<div>\n",
       "<table border=\"1\" class=\"dataframe\">\n",
       "  <thead>\n",
       "    <tr style=\"text-align: right;\">\n",
       "      <th></th>\n",
       "      <th>date</th>\n",
       "      <th>value</th>\n",
       "    </tr>\n",
       "  </thead>\n",
       "  <tbody>\n",
       "    <tr>\n",
       "      <th>0</th>\n",
       "      <td>1947-01-01</td>\n",
       "      <td>21.48</td>\n",
       "    </tr>\n",
       "    <tr>\n",
       "      <th>1</th>\n",
       "      <td>1947-02-01</td>\n",
       "      <td>21.62</td>\n",
       "    </tr>\n",
       "    <tr>\n",
       "      <th>2</th>\n",
       "      <td>1947-03-01</td>\n",
       "      <td>22.00</td>\n",
       "    </tr>\n",
       "    <tr>\n",
       "      <th>3</th>\n",
       "      <td>1947-04-01</td>\n",
       "      <td>22.00</td>\n",
       "    </tr>\n",
       "    <tr>\n",
       "      <th>4</th>\n",
       "      <td>1947-05-01</td>\n",
       "      <td>21.95</td>\n",
       "    </tr>\n",
       "  </tbody>\n",
       "</table>\n",
       "</div>"
      ],
      "text/plain": [
       "        date  value\n",
       "0 1947-01-01  21.48\n",
       "1 1947-02-01  21.62\n",
       "2 1947-03-01  22.00\n",
       "3 1947-04-01  22.00\n",
       "4 1947-05-01  21.95"
      ]
     },
     "execution_count": 126,
     "metadata": {},
     "output_type": "execute_result"
    }
   ],
   "source": [
    "pricein.columns = ['date','value']"
   ]
  },
  {
   "cell_type": "code",
   "execution_count": 119,
   "metadata": {
    "collapsed": false
   },
   "outputs": [],
   "source": [
    "com_in = pd.merge(combine_data,pricein,on = 'date')\n",
    "n = com_in['date'].size\n",
    "# normal lize the price index\n",
    "com_in['value'] = \\\n",
    "(com_in['value']- com_in['value'].mean())/(com_in['value'].std()/np.sqrt(n))"
   ]
  },
  {
   "cell_type": "markdown",
   "metadata": {},
   "source": [
    "construct the plot of normalized gold price and price index. From observation, the price index rises with a positive slope over the years while the gold price remains unchanged in times. "
   ]
  },
  {
   "cell_type": "code",
   "execution_count": 120,
   "metadata": {
    "collapsed": false
   },
   "outputs": [
    {
     "data": {
      "text/plain": [
       "<matplotlib.axes._subplots.AxesSubplot at 0x10da8e490>"
      ]
     },
     "execution_count": 120,
     "metadata": {},
     "output_type": "execute_result"
    },
    {
     "data": {
      "image/png": "[encoded data removed]",
      "text/plain": [
       "<matplotlib.figure.Figure at 0x10da77e50>"
      ]
     },
     "metadata": {},
     "output_type": "display_data"
    }
   ],
   "source": [
    "ax = com_in.plot(x = 'date' , y = 'normalized gold price')\n",
    "com_in.plot(x = 'date', y = 'value', ax = ax)"
   ]
  },
  {
   "cell_type": "markdown",
   "metadata": {},
   "source": [
    "#### After plotting the normlized gold price and the price index, I observed that gold price hardly change any over the years. This strength the results I got above that, it is very unlikely to gold price have any connection with exchange rate. "
   ]
  },
  {
   "cell_type": "code",
   "execution_count": 121,
   "metadata": {
    "collapsed": false
   },
   "outputs": [
    {
     "data": {
      "text/plain": [
       "-4.8883973791956894e-14"
      ]
     },
     "execution_count": 121,
     "metadata": {},
     "output_type": "execute_result"
    }
   ],
   "source": [
    "com_in.value.mean()"
   ]
  },
  {
   "cell_type": "code",
   "execution_count": 127,
   "metadata": {
    "collapsed": true
   },
   "outputs": [],
   "source": [
    "com_in2 = pd.merge(combine_data,pricein,on = 'date')\n",
    "n = com_in['date'].size"
   ]
  },
  {
   "cell_type": "code",
   "execution_count": 129,
   "metadata": {
    "collapsed": false
   },
   "outputs": [
    {
     "data": {
      "text/html": [
       "<div>\n",
       "<table border=\"1\" class=\"dataframe\">\n",
       "  <thead>\n",
       "    <tr style=\"text-align: right;\">\n",
       "      <th></th>\n",
       "      <th>date</th>\n",
       "      <th>gold price</th>\n",
       "      <th>USD/SAR</th>\n",
       "      <th>normalized gold price</th>\n",
       "      <th>normalized rate</th>\n",
       "      <th>value</th>\n",
       "    </tr>\n",
       "  </thead>\n",
       "  <tbody>\n",
       "    <tr>\n",
       "      <th>0</th>\n",
       "      <td>1990-01-01</td>\n",
       "      <td>410.118</td>\n",
       "      <td>3.7500</td>\n",
       "      <td>-14.254177</td>\n",
       "      <td>26.795716</td>\n",
       "      <td>127.5</td>\n",
       "    </tr>\n",
       "    <tr>\n",
       "      <th>1</th>\n",
       "      <td>1990-02-01</td>\n",
       "      <td>416.543</td>\n",
       "      <td>3.7500</td>\n",
       "      <td>-14.254177</td>\n",
       "      <td>29.059001</td>\n",
       "      <td>128.0</td>\n",
       "    </tr>\n",
       "    <tr>\n",
       "      <th>2</th>\n",
       "      <td>1990-03-01</td>\n",
       "      <td>393.661</td>\n",
       "      <td>3.7495</td>\n",
       "      <td>-14.254177</td>\n",
       "      <td>12.650187</td>\n",
       "      <td>128.6</td>\n",
       "    </tr>\n",
       "    <tr>\n",
       "      <th>3</th>\n",
       "      <td>1990-04-01</td>\n",
       "      <td>374.929</td>\n",
       "      <td>3.7501</td>\n",
       "      <td>-14.254177</td>\n",
       "      <td>10.386902</td>\n",
       "      <td>128.9</td>\n",
       "    </tr>\n",
       "    <tr>\n",
       "      <th>4</th>\n",
       "      <td>1990-05-01</td>\n",
       "      <td>368.855</td>\n",
       "      <td>3.7504</td>\n",
       "      <td>-14.254177</td>\n",
       "      <td>14.347650</td>\n",
       "      <td>129.1</td>\n",
       "    </tr>\n",
       "  </tbody>\n",
       "</table>\n",
       "</div>"
      ],
      "text/plain": [
       "        date  gold price  USD/SAR  normalized gold price  normalized rate  \\\n",
       "0 1990-01-01     410.118   3.7500             -14.254177        26.795716   \n",
       "1 1990-02-01     416.543   3.7500             -14.254177        29.059001   \n",
       "2 1990-03-01     393.661   3.7495             -14.254177        12.650187   \n",
       "3 1990-04-01     374.929   3.7501             -14.254177        10.386902   \n",
       "4 1990-05-01     368.855   3.7504             -14.254177        14.347650   \n",
       "\n",
       "   value  \n",
       "0  127.5  \n",
       "1  128.0  \n",
       "2  128.6  \n",
       "3  128.9  \n",
       "4  129.1  "
      ]
     },
     "execution_count": 129,
     "metadata": {},
     "output_type": "execute_result"
    }
   ],
   "source": [
    "com_in2.head()"
   ]
  },
  {
   "cell_type": "code",
   "execution_count": 131,
   "metadata": {
    "collapsed": false
   },
   "outputs": [
    {
     "data": {
      "text/plain": [
       "<matplotlib.axes._subplots.AxesSubplot at 0x10da63990>"
      ]
     },
     "execution_count": 131,
     "metadata": {},
     "output_type": "execute_result"
    },
    {
     "data": {
      "image/png": "[encoded data removed]",
      "text/plain": [
       "<matplotlib.figure.Figure at 0x10dacef90>"
      ]
     },
     "metadata": {},
     "output_type": "display_data"
    }
   ],
   "source": [
    "com_in2.plot(x = 'date', y = 'value')"
   ]
  },
  {
   "cell_type": "code",
   "execution_count": 132,
   "metadata": {
    "collapsed": false
   },
   "outputs": [
    {
     "data": {
      "text/plain": [
       "<matplotlib.axes._subplots.AxesSubplot at 0x10dcbf710>"
      ]
     },
     "execution_count": 132,
     "metadata": {},
     "output_type": "execute_result"
    },
    {
     "data": {
      "image/png": "[encoded data removed]",
      "text/plain": [
       "<matplotlib.figure.Figure at 0x10dcaec10>"
      ]
     },
     "metadata": {},
     "output_type": "display_data"
    }
   ],
   "source": [
    "pricein.plot(x = 'date', y= 'value')"
   ]
  },
  {
   "cell_type": "code",
   "execution_count": null,
   "metadata": {
    "collapsed": true
   },
   "outputs": [],
   "source": []
  }
 ],
 "metadata": {
  "kernelspec": {
   "display_name": "Python 2",
   "language": "python",
   "name": "python2"
  },
  "language_info": {
   "codemirror_mode": {
    "name": "ipython",
    "version": 2
   },
   "file_extension": ".py",
   "mimetype": "text/x-python",
   "name": "python",
   "nbconvert_exporter": "python",
   "pygments_lexer": "ipython2",
   "version": "2.7.11"
  }
 },
 "nbformat": 4,
 "nbformat_minor": 0
}
