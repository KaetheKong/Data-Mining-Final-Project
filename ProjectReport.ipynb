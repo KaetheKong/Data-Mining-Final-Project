{
 "cells": [
  {
   "cell_type": "markdown",
   "metadata": {},
   "source": [
    "# Unrevealed Relationships Between Resources\n",
    "#### Team Leader (Ruinan Zhang), Wenjun Kong, Zhihao Xue, Jiaren Wu."
   ]
  },
  {
   "cell_type": "markdown",
   "metadata": {},
   "source": [
    "### Table of Contents (Optional)\n",
    " \n",
    " * [Executive Summary](#Executive-Summary)\n",
    " * [Introduction](#Introduction)\n",
    " * [Analysis and Results](#Analysis-and-Results)\n",
    " * [Links](#Links)\n",
    "\n",
    "\n"
   ]
  },
  {
   "cell_type": "markdown",
   "metadata": {},
   "source": [
    "### Executive Summary\n",
    "*In this project, our team suspect that there are underlying relationships between crude oil price, gold price, price index, inflation level, currency exchange rate, and inport export value. *\n",
    "\n",
    "Here are our conlusions:\n",
    "* Gold Price is not a very good capital goods; its price remains reletively constant despite of price index.\n",
    "* There is no relationship between crude oil price, and the currency value of a opaque country\n",
    "* Increasing gold reserve could be a potential strategy against inflation, since there is a week inverse relationship between them. \n",
    "* For many countries, we found enough evidence of strong correlations between those countries' import export amount and gold price. \n",
    "* There is enough evidence that gold price and crude oil price are positively related despite the effect of price index. \n"
   ]
  },
  {
   "cell_type": "markdown",
   "metadata": {},
   "source": [
    "### Introduction\n",
    "\n",
    "\n",
    "* In this project, we are looking for association between economic objects such as crude oil price, gold price, price index, inflation level, currency exchange rate, and inport export value. Four potentional association we come up is: inflation vs. CPI; crude oil price vs. currency exchange value; import and export value vs. gold price; inflation level and gold price. Each association is more specifically discussed under individual ipython notebook.\n",
    "* One of the biggest challenge we encounter is finding approprate data and merge them so we can conduct hypothesis test. For example, the data set we download from IMF is huge (3.4G), it contains many information we need, but took us long time to process and cleaning it. One major problmem with this data set is that it contains too many NA values under different attributes. We have to look for countries carefully for particular attribute with non NA values and then collect them.\n",
    "* The technics we used include: hypothesis testing, regression models. \n",
    "\n"
   ]
  },
  {
   "cell_type": "markdown",
   "metadata": {},
   "source": [
    "### Analysis and Results\n",
    " Please see details for anaylysis and results in individual ipython notebook."
   ]
  },
  {
   "cell_type": "markdown",
   "metadata": {},
   "source": [
    "### Links\n",
    "\n",
    "*Here are the links to individual ipytho notebooks: *\n",
    "\n",
    "[Gold VS Crude Oil](https://github.com/KaetheKong/Data-Mining-Final-Project/blob/master/Data%20Mining%20Project%20Data.ipynb)\n",
    "\n",
    "[Gold VS Inflation](https://github.com/KaetheKong/Data-Mining-Final-Project/blob/master/Gold%20Reserve%20and%20Inflation.ipynb)\n",
    "\n",
    "[Gold VS Currency](https://github.com/KaetheKong/Data-Mining-Final-Project/blob/master/Gold%20vs%20Currency%20Analysis.ipynb)\n",
    "\n",
    "[Gold VS Import and Export Value](https://github.com/KaetheKong/Data-Mining-Final-Project/blob/master/Gold%20VS%20Import%20and%20Export%20Value%20ver3.0%20without%20output.ipynb)\n"
   ]
  },
  {
   "cell_type": "code",
   "execution_count": null,
   "metadata": {
    "collapsed": true
   },
   "outputs": [],
   "source": []
  }
 ],
 "metadata": {
  "kernelspec": {
   "display_name": "Python 2",
   "language": "python",
   "name": "python2"
  },
  "language_info": {
   "codemirror_mode": {
    "name": "ipython",
    "version": 2
   },
   "file_extension": ".py",
   "mimetype": "text/x-python",
   "name": "python",
   "nbconvert_exporter": "python",
   "pygments_lexer": "ipython2",
   "version": "2.7.11"
  }
 },
 "nbformat": 4,
 "nbformat_minor": 0
}
